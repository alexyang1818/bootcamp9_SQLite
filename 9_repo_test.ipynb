{
 "cells": [
  {
   "cell_type": "code",
   "execution_count": 12,
   "id": "100e4a0b",
   "metadata": {},
   "outputs": [],
   "source": [
    "%matplotlib inline\n",
    "from matplotlib import style\n",
    "style.use('fivethirtyeight')\n",
    "import matplotlib.pyplot as plt\n",
    "import numpy as np\n",
    "import pandas as pd\n",
    "import datetime as dt\n",
    "\n",
    "import sqlalchemy\n",
    "from sqlalchemy.ext.automap import automap_base\n",
    "from sqlalchemy.orm import sessionmaker\n",
    "from sqlalchemy import create_engine, func"
   ]
  },
  {
   "cell_type": "code",
   "execution_count": 3,
   "id": "ad926024",
   "metadata": {},
   "outputs": [],
   "source": [
    "# prepares the database file to be connected to\n",
    "engine = create_engine('sqlite:///hawaii.sqlite')"
   ]
  },
  {
   "cell_type": "code",
   "execution_count": 6,
   "id": "9c58460f",
   "metadata": {},
   "outputs": [
    {
     "data": {
      "text/plain": [
       "['measurement', 'station']"
      ]
     },
     "execution_count": 6,
     "metadata": {},
     "output_type": "execute_result"
    }
   ],
   "source": [
    "# reflect our existing database into a new model with the automap_base() function. \n",
    "# Reflecting a database into a new model essentially means to \n",
    "# transfer the contents of the database into a different structure of data. \n",
    "\n",
    "# Automap Base creates a base class for an automap schema in SQLAlchemy. \n",
    "# Basically, it sets up a foundation for us to build on in SQLAlchemy, \n",
    "# and by adding it to our code, it will help the rest of our code to function properly.\n",
    "\n",
    "Base = automap_base()\n",
    "\n",
    "# reflect the schema from the tables to our code:\n",
    "\n",
    "Base.prepare(engine, reflect=True)\n",
    "\n",
    "# confirm that the Automap was able to find all of the data in the SQLite database.\n",
    "# Base.classes gives us access to all the classes. keys() references all the names of the classes.\n",
    "\n",
    "Base.classes.keys()\n"
   ]
  },
  {
   "cell_type": "code",
   "execution_count": 7,
   "id": "abfc9b77",
   "metadata": {},
   "outputs": [],
   "source": [
    "# reference a specific class: Base.classes.<class name>\n",
    "# name classes with new names\n",
    "\n",
    "Measurement = Base.classes.measurement\n",
    "Station = Base.classes.station"
   ]
  },
  {
   "cell_type": "code",
   "execution_count": 15,
   "id": "0d9738cd",
   "metadata": {},
   "outputs": [],
   "source": [
    "# create session link to the database\n",
    "# session essentially allows us to query our data\n",
    "\n",
    "session = sessionmaker(engine)"
   ]
  },
  {
   "cell_type": "code",
   "execution_count": 17,
   "id": "54b4548a",
   "metadata": {},
   "outputs": [
    {
     "data": {
      "text/plain": [
       "sqlalchemy.orm.session.sessionmaker"
      ]
     },
     "execution_count": 17,
     "metadata": {},
     "output_type": "execute_result"
    }
   ],
   "source": []
  },
  {
   "cell_type": "code",
   "execution_count": null,
   "id": "b47c7a5b",
   "metadata": {},
   "outputs": [],
   "source": []
  }
 ],
 "metadata": {
  "kernelspec": {
   "display_name": "Python [conda env:.conda-DataBootCamp]",
   "language": "python",
   "name": "conda-env-.conda-DataBootCamp-py"
  },
  "language_info": {
   "codemirror_mode": {
    "name": "ipython",
    "version": 3
   },
   "file_extension": ".py",
   "mimetype": "text/x-python",
   "name": "python",
   "nbconvert_exporter": "python",
   "pygments_lexer": "ipython3",
   "version": "3.6.10"
  }
 },
 "nbformat": 4,
 "nbformat_minor": 5
}
